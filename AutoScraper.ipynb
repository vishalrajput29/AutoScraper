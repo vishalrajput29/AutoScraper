{
  "nbformat": 4,
  "nbformat_minor": 0,
  "metadata": {
    "colab": {
      "provenance": []
    },
    "kernelspec": {
      "name": "python3",
      "display_name": "Python 3"
    },
    "language_info": {
      "name": "python"
    }
  },
  "cells": [
    {
      "cell_type": "code",
      "execution_count": 19,
      "metadata": {
        "colab": {
          "base_uri": "https://localhost:8080/"
        },
        "id": "QctJp79RO-IJ",
        "outputId": "0f0ae56c-b029-4daa-b877-8c3d08ec383b"
      },
      "outputs": [
        {
          "output_type": "stream",
          "name": "stdout",
          "text": [
            "Requirement already satisfied: autoscraper in /usr/local/lib/python3.10/dist-packages (1.1.14)\n",
            "Requirement already satisfied: requests in /usr/local/lib/python3.10/dist-packages (from autoscraper) (2.32.3)\n",
            "Requirement already satisfied: bs4 in /usr/local/lib/python3.10/dist-packages (from autoscraper) (0.0.2)\n",
            "Requirement already satisfied: lxml in /usr/local/lib/python3.10/dist-packages (from autoscraper) (4.9.4)\n",
            "Requirement already satisfied: beautifulsoup4 in /usr/local/lib/python3.10/dist-packages (from bs4->autoscraper) (4.12.3)\n",
            "Requirement already satisfied: charset-normalizer<4,>=2 in /usr/local/lib/python3.10/dist-packages (from requests->autoscraper) (3.3.2)\n",
            "Requirement already satisfied: idna<4,>=2.5 in /usr/local/lib/python3.10/dist-packages (from requests->autoscraper) (3.7)\n",
            "Requirement already satisfied: urllib3<3,>=1.21.1 in /usr/local/lib/python3.10/dist-packages (from requests->autoscraper) (2.0.7)\n",
            "Requirement already satisfied: certifi>=2017.4.17 in /usr/local/lib/python3.10/dist-packages (from requests->autoscraper) (2024.7.4)\n",
            "Requirement already satisfied: soupsieve>1.2 in /usr/local/lib/python3.10/dist-packages (from beautifulsoup4->bs4->autoscraper) (2.6)\n"
          ]
        }
      ],
      "source": [
        "!pip install autoscraper"
      ]
    },
    {
      "cell_type": "code",
      "source": [
        "from autoscraper import AutoScraper"
      ],
      "metadata": {
        "id": "CCNWySgqP3pc"
      },
      "execution_count": 20,
      "outputs": []
    },
    {
      "cell_type": "code",
      "source": [
        "url = \"https://github.com/vishalrajput29?tab=repositories\"\n",
        "wanted_list =[\"PHISHING-CLASSIFIER\",\"Updated yesterday\"]"
      ],
      "metadata": {
        "id": "qU_sPcFRP9Yl"
      },
      "execution_count": 28,
      "outputs": []
    },
    {
      "cell_type": "code",
      "source": [
        "scraper = AutoScraper()\n",
        "result = scraper.build(url,wanted_list)\n",
        "print(result)"
      ],
      "metadata": {
        "colab": {
          "base_uri": "https://localhost:8080/"
        },
        "id": "f9WHY9v1Q191",
        "outputId": "df8d3ee8-02b9-48d3-f516-b456ba48c8e1"
      },
      "execution_count": 29,
      "outputs": [
        {
          "output_type": "stream",
          "name": "stdout",
          "text": [
            "['THYROID_DISEASE_DETECTION', 'PHISHING-CLASSIFIER', 'Projects', 'Heart-disease', 'EDA_assignment1', 'eda_assignment2', 'project_setup', 'FORESTCOVER', 'Forest_Cover', 'decision-tree', 'spine-lumber', 'fetch_california_housing', 'json_cal', 'myportfolio', 'VishalRajput29', 'VishalRajput30', 'gitpractice', 'EDA', 'numpy', 'tc', 'vishaa', 'visha', 'vishal98', 'vish657', 'vis', 'testweatherapp1', 'vishh9876', 'vish8989', 'vishalrajput', 'VishalRajput2']\n"
          ]
        }
      ]
    },
    {
      "cell_type": "code",
      "source": [
        "scraper.get_result_similar(\"https://github.com/FireHead90544?tab=repositories\",grouped=True)"
      ],
      "metadata": {
        "colab": {
          "base_uri": "https://localhost:8080/"
        },
        "id": "NbrtZ8ayVhjK",
        "outputId": "775b2f72-dd7a-4a35-99a8-055438a398c9"
      },
      "execution_count": 30,
      "outputs": [
        {
          "output_type": "execute_result",
          "data": {
            "text/plain": [
              "{'rule_khmv': ['NextPY',\n",
              "  'w3',\n",
              "  'FireHead90544',\n",
              "  'rudra-django',\n",
              "  'Python-Programs',\n",
              "  'how-cli',\n",
              "  'DeepMeow',\n",
              "  'Cody',\n",
              "  'Pookiefy',\n",
              "  'SenPY',\n",
              "  'PWUtils',\n",
              "  'aria2py',\n",
              "  'vanilla-web-ui',\n",
              "  'NextGW',\n",
              "  'hacktoberfest-2023-js',\n",
              "  'OpenRain',\n",
              "  'craiyon.py',\n",
              "  'daily-dsa-practice',\n",
              "  'Ryuuguuin',\n",
              "  'is-a-dev-register',\n",
              "  'Crap-Bot',\n",
              "  'gogoanime-dl',\n",
              "  'mathemagic',\n",
              "  'AnimeRPC',\n",
              "  'PyQTTs',\n",
              "  'Presences',\n",
              "  'ToastCord',\n",
              "  'GitHubGraduation-2022',\n",
              "  'PyMemo',\n",
              "  'bsdotpy']}"
            ]
          },
          "metadata": {},
          "execution_count": 30
        }
      ]
    },
    {
      "cell_type": "code",
      "source": [
        "scraper.set_rule_aliases({\"rule_khmv\":\"Title\"})\n",
        "scraper.keep_rules(['rule_khmv'])\n",
        "scraper.save(\"github-repo\")"
      ],
      "metadata": {
        "id": "iG_UnIUjVyp1"
      },
      "execution_count": 31,
      "outputs": []
    },
    {
      "cell_type": "code",
      "source": [
        "scraper.load(\"github-repo\")"
      ],
      "metadata": {
        "id": "TBbbufvtW49X"
      },
      "execution_count": 32,
      "outputs": []
    },
    {
      "cell_type": "markdown",
      "source": [],
      "metadata": {
        "id": "Uyc6s8jwXQIj"
      }
    },
    {
      "cell_type": "code",
      "source": [
        "result =scraper.get_result_similar(\"https://github.com/FireHead90544?tab=repositories\",group_by_alias=True)"
      ],
      "metadata": {
        "id": "tL2DM5qHWiB3"
      },
      "execution_count": 35,
      "outputs": []
    },
    {
      "cell_type": "code",
      "source": [
        "result[\"Title\"]"
      ],
      "metadata": {
        "colab": {
          "base_uri": "https://localhost:8080/"
        },
        "id": "X2DX9XmgXGZc",
        "outputId": "20c6116e-d62e-4194-e83a-76cfdb095c95"
      },
      "execution_count": 37,
      "outputs": [
        {
          "output_type": "execute_result",
          "data": {
            "text/plain": [
              "['NextPY',\n",
              " 'w3',\n",
              " 'FireHead90544',\n",
              " 'rudra-django',\n",
              " 'Python-Programs',\n",
              " 'how-cli',\n",
              " 'DeepMeow',\n",
              " 'Cody',\n",
              " 'Pookiefy',\n",
              " 'SenPY',\n",
              " 'PWUtils',\n",
              " 'aria2py',\n",
              " 'vanilla-web-ui',\n",
              " 'NextGW',\n",
              " 'hacktoberfest-2023-js',\n",
              " 'OpenRain',\n",
              " 'craiyon.py',\n",
              " 'daily-dsa-practice',\n",
              " 'Ryuuguuin',\n",
              " 'is-a-dev-register',\n",
              " 'Crap-Bot',\n",
              " 'gogoanime-dl',\n",
              " 'mathemagic',\n",
              " 'AnimeRPC',\n",
              " 'PyQTTs',\n",
              " 'Presences',\n",
              " 'ToastCord',\n",
              " 'GitHubGraduation-2022',\n",
              " 'PyMemo',\n",
              " 'bsdotpy']"
            ]
          },
          "metadata": {},
          "execution_count": 37
        }
      ]
    },
    {
      "cell_type": "code",
      "source": [],
      "metadata": {
        "id": "g-R6yKXNXKEZ"
      },
      "execution_count": null,
      "outputs": []
    }
  ]
}