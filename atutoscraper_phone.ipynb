{
  "nbformat": 4,
  "nbformat_minor": 0,
  "metadata": {
    "colab": {
      "provenance": []
    },
    "kernelspec": {
      "name": "python3",
      "display_name": "Python 3"
    },
    "language_info": {
      "name": "python"
    }
  },
  "cells": [
    {
      "cell_type": "code",
      "execution_count": null,
      "metadata": {
        "colab": {
          "base_uri": "https://localhost:8080/"
        },
        "id": "V8aydHCAutTu",
        "outputId": "d14dee78-24ca-49e6-bf02-370061a68277"
      },
      "outputs": [
        {
          "output_type": "stream",
          "name": "stdout",
          "text": [
            "Collecting autoscraper\n",
            "  Downloading autoscraper-1.1.14-py3-none-any.whl (10 kB)\n",
            "Requirement already satisfied: requests in /usr/local/lib/python3.10/dist-packages (from autoscraper) (2.31.0)\n",
            "Collecting bs4 (from autoscraper)\n",
            "  Downloading bs4-0.0.2-py2.py3-none-any.whl (1.2 kB)\n",
            "Requirement already satisfied: lxml in /usr/local/lib/python3.10/dist-packages (from autoscraper) (4.9.4)\n",
            "Requirement already satisfied: beautifulsoup4 in /usr/local/lib/python3.10/dist-packages (from bs4->autoscraper) (4.12.3)\n",
            "Requirement already satisfied: charset-normalizer<4,>=2 in /usr/local/lib/python3.10/dist-packages (from requests->autoscraper) (3.3.2)\n",
            "Requirement already satisfied: idna<4,>=2.5 in /usr/local/lib/python3.10/dist-packages (from requests->autoscraper) (3.6)\n",
            "Requirement already satisfied: urllib3<3,>=1.21.1 in /usr/local/lib/python3.10/dist-packages (from requests->autoscraper) (2.0.7)\n",
            "Requirement already satisfied: certifi>=2017.4.17 in /usr/local/lib/python3.10/dist-packages (from requests->autoscraper) (2024.2.2)\n",
            "Requirement already satisfied: soupsieve>1.2 in /usr/local/lib/python3.10/dist-packages (from beautifulsoup4->bs4->autoscraper) (2.5)\n",
            "Installing collected packages: bs4, autoscraper\n",
            "Successfully installed autoscraper-1.1.14 bs4-0.0.2\n"
          ]
        }
      ],
      "source": [
        "!pip install autoscraper"
      ]
    },
    {
      "cell_type": "code",
      "source": [
        "from autoscraper import AutoScraper"
      ],
      "metadata": {
        "id": "8PFZv2KivghL"
      },
      "execution_count": null,
      "outputs": []
    },
    {
      "cell_type": "code",
      "source": [
        "amason_url = \"https://www.amazon.in/s?k=iphones\"\n",
        "\n",
        "wanted_list= [\"₹49,499\",\"Apple iPhone 13 (128GB) - Starlight\",\"25,288\"]"
      ],
      "metadata": {
        "id": "vvm2o7RlvxLm"
      },
      "execution_count": null,
      "outputs": []
    },
    {
      "cell_type": "code",
      "source": [
        "scraper = AutoScraper()\n",
        "result=scraper.build(amason_url,wanted_list)\n",
        "print(result)"
      ],
      "metadata": {
        "colab": {
          "base_uri": "https://localhost:8080/"
        },
        "id": "epzKwLxIxAPg",
        "outputId": "7835567b-6fc8-4cfb-9c2c-de528b631609"
      },
      "execution_count": null,
      "outputs": [
        {
          "output_type": "stream",
          "name": "stdout",
          "text": [
            "['₹49,999', '₹71,290', '₹80,990', '₹80,999', '₹58,999', '₹1,48,900', '₹1,37,990', '₹66,999', '₹49,499', '₹59,999', 'Apple iPhone 13 (128GB) - Pink', 'Apple iPhone 15 (128 GB) - Blue', 'Apple iPhone 13 (128GB) - Green', 'Apple iPhone 15 Plus (128 GB) - Black', 'Apple iPhone 15 (256 GB) - Blue', 'Apple iPhone 14 (128 GB) - Blue', 'Apple iPhone 14 (128 GB) - Midnight', 'Apple iPhone 15 Pro Max (256 GB) - Black Titanium', 'Apple iPhone 15 Pro (256 GB) - Natural Titanium', 'Apple iPhone 14 Plus (128 GB) - Starlight', 'Apple iPhone 13 (128GB) - Starlight', 'Apple iPhone 15 (128 GB) - Green', 'Apple iPhone 13 (128GB) - Blue', 'Apple iPhone 14 Plus (128 GB) - Midnight', 'Apple iPhone 13 (256GB) - (Product) RED', 'Apple iPhone 14 (128 GB) - Starlight']\n"
          ]
        }
      ]
    },
    {
      "cell_type": "code",
      "source": [
        "scraper.get_result_similar(amason_url,grouped=True)"
      ],
      "metadata": {
        "colab": {
          "base_uri": "https://localhost:8080/"
        },
        "id": "zMa9pDWXxa7N",
        "outputId": "4c4c6199-c2b3-4b8b-e642-9cd90510b7f5"
      },
      "execution_count": null,
      "outputs": [
        {
          "output_type": "execute_result",
          "data": {
            "text/plain": [
              "{'rule_fldh': ['₹49,999',\n",
              "  '₹71,290',\n",
              "  '₹49,999',\n",
              "  '₹80,990',\n",
              "  '₹80,999',\n",
              "  '₹58,999',\n",
              "  '₹60,499',\n",
              "  '₹58,999',\n",
              "  '₹1,48,900',\n",
              "  '₹1,37,990',\n",
              "  '₹66,999',\n",
              "  '₹49,499',\n",
              "  '₹71,290',\n",
              "  '₹49,499',\n",
              "  '₹66,999',\n",
              "  '₹59,999'],\n",
              " 'rule_5civ': ['₹49,999',\n",
              "  '₹71,290',\n",
              "  '₹49,999',\n",
              "  '₹80,990',\n",
              "  '₹80,999',\n",
              "  '₹58,999',\n",
              "  '₹60,499',\n",
              "  '₹58,999',\n",
              "  '₹1,48,900',\n",
              "  '₹1,37,990',\n",
              "  '₹66,999',\n",
              "  '₹49,499',\n",
              "  '₹71,290',\n",
              "  '₹49,499',\n",
              "  '₹66,999',\n",
              "  '₹59,999'],\n",
              " 'rule_cxh7': ['₹49,999',\n",
              "  '₹71,290',\n",
              "  '₹49,999',\n",
              "  '₹80,990',\n",
              "  '₹80,999',\n",
              "  '₹58,999',\n",
              "  '₹60,499',\n",
              "  '₹58,999',\n",
              "  '₹1,48,900',\n",
              "  '₹1,37,990',\n",
              "  '₹66,999',\n",
              "  '₹49,499',\n",
              "  '₹71,290',\n",
              "  '₹49,499',\n",
              "  '₹66,999',\n",
              "  '₹59,999'],\n",
              " 'rule_4gj7': ['₹49,999',\n",
              "  '₹71,290',\n",
              "  '₹49,999',\n",
              "  '₹80,990',\n",
              "  '₹80,999',\n",
              "  '₹58,999',\n",
              "  '₹60,499',\n",
              "  '₹58,999',\n",
              "  '₹1,48,900',\n",
              "  '₹1,37,990',\n",
              "  '₹66,999',\n",
              "  '₹49,499',\n",
              "  '₹71,290',\n",
              "  '₹49,499',\n",
              "  '₹66,999',\n",
              "  '₹59,999'],\n",
              " 'rule_zal9': ['Apple iPhone 13 (128GB) - Pink',\n",
              "  'Apple iPhone 15 (128 GB) - Blue',\n",
              "  'Apple iPhone 13 (128GB) - Green',\n",
              "  'Apple iPhone 15 Plus (128 GB) - Black',\n",
              "  'Apple iPhone 15 (256 GB) - Blue',\n",
              "  'Apple iPhone 14 (128 GB) - Blue',\n",
              "  'Apple iPhone 13 (256GB) - Midnight',\n",
              "  'Apple iPhone 14 (128 GB) - Midnight',\n",
              "  'Apple iPhone 15 Pro Max (256 GB) - Black Titanium',\n",
              "  'Apple iPhone 15 Pro (256 GB) - Natural Titanium',\n",
              "  'Apple iPhone 14 Plus (128 GB) - Starlight',\n",
              "  'Apple iPhone 13 (128GB) - Starlight',\n",
              "  'Apple iPhone 15 (128 GB) - Green',\n",
              "  'Apple iPhone 13 (128GB) - Blue',\n",
              "  'Apple iPhone 14 Plus (128 GB) - Midnight',\n",
              "  'Apple iPhone 13 (256GB) - (Product) RED'],\n",
              " 'rule_k76n': ['Apple iPhone 13 (128GB) - Pink',\n",
              "  'Apple iPhone 15 (128 GB) - Blue',\n",
              "  'Apple iPhone 13 (128GB) - Green',\n",
              "  'Apple iPhone 15 Plus (128 GB) - Black',\n",
              "  'Apple iPhone 15 (256 GB) - Blue',\n",
              "  'Apple iPhone 14 (128 GB) - Blue',\n",
              "  'Apple iPhone 13 (256GB) - Midnight',\n",
              "  'Apple iPhone 14 (128 GB) - Midnight',\n",
              "  'Apple iPhone 15 Pro Max (256 GB) - Black Titanium',\n",
              "  'Apple iPhone 15 Pro (256 GB) - Natural Titanium',\n",
              "  'Apple iPhone 14 Plus (128 GB) - Starlight',\n",
              "  'Apple iPhone 13 (128GB) - Starlight',\n",
              "  'Apple iPhone 15 (128 GB) - Green',\n",
              "  'Apple iPhone 13 (128GB) - Blue',\n",
              "  'Apple iPhone 14 Plus (128 GB) - Midnight',\n",
              "  'Apple iPhone 13 (256GB) - (Product) RED']}"
            ]
          },
          "metadata": {},
          "execution_count": 11
        }
      ]
    },
    {
      "cell_type": "code",
      "source": [
        "scraper.set_rule_aliases({ 'rule_k76n':'Title','rule_fldh':'Price'})\n",
        "scraper.keep_rules([ 'rule_k76n','rule_fldh'])\n",
        "scraper.save('amason-search')"
      ],
      "metadata": {
        "id": "-a2jllSpyK1y"
      },
      "execution_count": null,
      "outputs": []
    },
    {
      "cell_type": "code",
      "source": [
        "result=scraper.get_result_similar(\"https://www.amazon.in/s?k=mi+phone\",group_by_alias=True)"
      ],
      "metadata": {
        "id": "DHUZl8jU0Nhn"
      },
      "execution_count": null,
      "outputs": []
    },
    {
      "cell_type": "code",
      "source": [
        "result[\"Price\"]"
      ],
      "metadata": {
        "colab": {
          "base_uri": "https://localhost:8080/"
        },
        "id": "-G-7n9yJ0tcM",
        "outputId": "e7cda271-953c-4bbb-beef-99f668e5bc3d"
      },
      "execution_count": null,
      "outputs": [
        {
          "output_type": "execute_result",
          "data": {
            "text/plain": [
              "['₹5,299',\n",
              " '₹8,798',\n",
              " '₹10,999',\n",
              " '₹10,999',\n",
              " '₹21,999',\n",
              " '₹7,999',\n",
              " '₹13,499',\n",
              " '₹9,998',\n",
              " '₹17,999',\n",
              " '₹17,999',\n",
              " '₹7,999',\n",
              " '₹7,299',\n",
              " '₹7,999',\n",
              " '₹9,999',\n",
              " '₹23,999',\n",
              " '₹13,499']"
            ]
          },
          "metadata": {},
          "execution_count": 14
        }
      ]
    },
    {
      "cell_type": "code",
      "source": [],
      "metadata": {
        "id": "78h_D0Wf01RU"
      },
      "execution_count": null,
      "outputs": []
    }
  ]
}